{
  "cells": [
    {
      "cell_type": "markdown",
      "metadata": {
        "id": "view-in-github",
        "colab_type": "text"
      },
      "source": [
        "<a href=\"https://colab.research.google.com/github/ravidox/hello-world/blob/main/Stochastic_Process.ipynb\" target=\"_parent\"><img src=\"https://colab.research.google.com/assets/colab-badge.svg\" alt=\"Open In Colab\"/></a>"
      ]
    },
    {
      "cell_type": "markdown",
      "source": [
        "### **Finding the Steady State Distribution: Linear Equations**"
      ],
      "metadata": {
        "id": "UbZQsnVhvXHR"
      },
      "id": "UbZQsnVhvXHR"
    },
    {
      "cell_type": "code",
      "execution_count": null,
      "id": "8ac08e3f",
      "metadata": {
        "id": "8ac08e3f",
        "colab": {
          "base_uri": "https://localhost:8080/"
        },
        "outputId": "a4550ae8-78a4-466a-d1c6-385f68285abf"
      },
      "outputs": [
        {
          "output_type": "stream",
          "name": "stdout",
          "text": [
            "Number of rows:3\n",
            "Number of columns:3\n",
            "Enter TPM \n",
            "0.2 0.3 0.5 0.1 0.2 0.7 0.4 0.1 0.5\n",
            "[[0.2 0.3 0.5]\n",
            " [0.1 0.2 0.7]\n",
            " [0.4 0.1 0.5]]\n",
            "Steady state [0.28947368 0.1754386  0.53508772]\n"
          ]
        }
      ],
      "source": [
        "import numpy as np                                          \n",
        "from scipy.sparse import  eye, vstack\n",
        "from scipy.sparse.linalg import  spsolve\n",
        "\n",
        "R = int(input(\"Number of rows:\"))\n",
        "C = int(input(\"Number of columns:\"))\n",
        "print(\"Enter TPM \")\n",
        "entries = list(map(float, input().split()))\n",
        "matrix = np.array(entries).reshape(R, C)\n",
        "print(matrix)\n",
        "\n",
        "class markovChain(object): \n",
        "    \n",
        "    def __init__(self,P=None,direct=False):\n",
        "        self.P              = P \n",
        "        self.I             = None           \n",
        "\n",
        "    def fun(self): \n",
        "        s = P.shape[0]                \n",
        "        dP = P - eye(s)\n",
        "        v = vstack([np.ones(s), dP.T[1:]]).tocsr()  \n",
        "        z = np.zeros((s))\n",
        "        z[0] = 1      \n",
        "        self.I = spsolve(v, z)\n",
        "\n",
        "\n",
        "P = matrix\n",
        "m = markovChain(P)\n",
        "m.fun()\n",
        "print(\"Steady state\",m.I)\n"
      ]
    },
    {
      "cell_type": "markdown",
      "source": [
        "### **Finding the Steady State Distribution : Matrix Multiplication**\n",
        " "
      ],
      "metadata": {
        "id": "0vjSFlIyJs7Z"
      },
      "id": "0vjSFlIyJs7Z"
    },
    {
      "cell_type": "code",
      "execution_count": null,
      "id": "9fe51cec",
      "metadata": {
        "id": "9fe51cec",
        "colab": {
          "base_uri": "https://localhost:8080/"
        },
        "outputId": "7d18e9a9-ba58-43c0-e49a-a6accfe3b706"
      },
      "outputs": [
        {
          "output_type": "stream",
          "name": "stdout",
          "text": [
            "The sationary probability distribution is:  [0.28947368 0.1754386  0.53508772]\n"
          ]
        }
      ],
      "source": [
        "steps = 10**6\n",
        "\n",
        "A_n = A\n",
        "\n",
        "i = 0\n",
        "while i < steps: \n",
        "    A_n = np.matmul(A_n, A)\n",
        "    i = i + 1\n",
        "\n",
        "print(\"The sationary probability distribution is: \", A_n[0])"
      ]
    },
    {
      "cell_type": "markdown",
      "source": [
        "### **Defining the States in a Markov Chain**"
      ],
      "metadata": {
        "id": "QwsPECbbtvT0"
      },
      "id": "QwsPECbbtvT0"
    },
    {
      "cell_type": "code",
      "source": [
        "state = { 0 : \"STATE 1\",\n",
        "          1 : \"STATE 2\", \n",
        "          2 : \"STATE 3\"\n",
        "        } \n",
        "state"
      ],
      "metadata": {
        "id": "1Vgplb7qtsoL",
        "colab": {
          "base_uri": "https://localhost:8080/"
        },
        "outputId": "97509323-b49c-483a-a5b1-21b323c3af01"
      },
      "id": "1Vgplb7qtsoL",
      "execution_count": null,
      "outputs": [
        {
          "output_type": "execute_result",
          "data": {
            "text/plain": [
              "{0: 'STATE 1', 1: 'STATE 2', 2: 'STATE 3'}"
            ]
          },
          "metadata": {},
          "execution_count": 32
        }
      ]
    },
    {
      "cell_type": "code",
      "source": [
        "A =matrix\n",
        "print(A)"
      ],
      "metadata": {
        "id": "0p9IuO8luWhN",
        "colab": {
          "base_uri": "https://localhost:8080/"
        },
        "outputId": "4c48a6d8-8a2a-4155-8614-261f971b64d1"
      },
      "id": "0p9IuO8luWhN",
      "execution_count": null,
      "outputs": [
        {
          "output_type": "stream",
          "name": "stdout",
          "text": [
            "[[0.2 0.3 0.5]\n",
            " [0.1 0.2 0.7]\n",
            " [0.4 0.1 0.5]]\n"
          ]
        }
      ]
    },
    {
      "cell_type": "markdown",
      "source": [
        "###**Markov Chain as a Random Walk**"
      ],
      "metadata": {
        "id": "24-z0prVufNU"
      },
      "id": "24-z0prVufNU"
    },
    {
      "cell_type": "code",
      "source": [
        "n = 12\n",
        "\n",
        "start_state = 0\n",
        "print(state[start_state], \"---->\", end = \" \")\n",
        "previous_state = start_state \n",
        "\n",
        "while n > 1:\n",
        "    current_state = np.random.choice([0,1,2], p = A[previous_state])\n",
        "    print(state[current_state], \"---->\", end = \" \")\n",
        "    current_state = previous_state\n",
        "    n = n - 1 \n",
        "print(\"stop\")"
      ],
      "metadata": {
        "id": "mcHTg9UHuvff",
        "colab": {
          "base_uri": "https://localhost:8080/"
        },
        "outputId": "8f8aaf4a-6800-443c-c260-af0f99845fe2"
      },
      "id": "mcHTg9UHuvff",
      "execution_count": null,
      "outputs": [
        {
          "output_type": "stream",
          "name": "stdout",
          "text": [
            "STATE 1 ----> STATE 1 ----> STATE 3 ----> STATE 2 ----> STATE 1 ----> STATE 3 ----> STATE 1 ----> STATE 2 ----> STATE 2 ----> STATE 3 ----> STATE 2 ----> STATE 3 ----> stop\n"
          ]
        }
      ]
    },
    {
      "cell_type": "markdown",
      "source": [
        "### **Simulation : Monte Carlo Method** "
      ],
      "metadata": {
        "id": "EH7IBitsu1p7"
      },
      "id": "EH7IBitsu1p7"
    },
    {
      "cell_type": "code",
      "execution_count": null,
      "id": "44dc7829",
      "metadata": {
        "id": "44dc7829",
        "colab": {
          "base_uri": "https://localhost:8080/"
        },
        "outputId": "54368c52-9a73-40a0-c6bd-bf86b1443d29"
      },
      "outputs": [
        {
          "output_type": "stream",
          "name": "stdout",
          "text": [
            "The stationary probability distribution is :  [0.289926 0.174953 0.535122]\n"
          ]
        }
      ],
      "source": [
        "steps = 10**6\n",
        "start_state = 2 \n",
        "pi = np.array([0, 0, 0])\n",
        "pi[start_state] = 1\n",
        "previous_state = start_state \n",
        "\n",
        "i = 0\n",
        "\n",
        "while i < steps: \n",
        "    current_state = np.random.choice([0,1,2], p = A[previous_state])\n",
        "    pi[current_state] = pi[current_state] + 1\n",
        "    previous_state = current_state \n",
        "    i = i + 1\n",
        "    \n",
        "print(\"The stationary probability distribution is : \", pi/steps)"
      ]
    },
    {
      "cell_type": "markdown",
      "source": [
        "### **Comparison of steady state**\n",
        "\n",
        "\n"
      ],
      "metadata": {
        "id": "IOovKTik6euA"
      },
      "id": "IOovKTik6euA"
    },
    {
      "cell_type": "code",
      "source": [
        "print(\"Linear method: \",m.I ,\"\\n\")\n",
        "print(\"Matrix Multiplication\",A_n[0],\"\\n\")\n",
        "print(\"Monte Carlo Simulation\",pi/steps,\"\\n\")"
      ],
      "metadata": {
        "id": "Cwy3tlzaI1E5",
        "colab": {
          "base_uri": "https://localhost:8080/"
        },
        "outputId": "5818c92c-8b48-44b1-db51-756c09a9d366"
      },
      "id": "Cwy3tlzaI1E5",
      "execution_count": null,
      "outputs": [
        {
          "output_type": "stream",
          "name": "stdout",
          "text": [
            "Linear method:  [0.28947368 0.1754386  0.53508772] \n",
            "\n",
            "Matrix Multiplication [0.28947368 0.1754386  0.53508772] \n",
            "\n",
            "Monte Carlo Simulation [0.289926 0.174953 0.535122] \n",
            "\n"
          ]
        }
      ]
    }
  ],
  "metadata": {
    "kernelspec": {
      "display_name": "Python 3",
      "language": "python",
      "name": "python3"
    },
    "language_info": {
      "codemirror_mode": {
        "name": "ipython",
        "version": 3
      },
      "file_extension": ".py",
      "mimetype": "text/x-python",
      "name": "python",
      "nbconvert_exporter": "python",
      "pygments_lexer": "ipython3",
      "version": "3.8.8"
    },
    "colab": {
      "name": "Stochastic Process.ipynb",
      "provenance": [],
      "collapsed_sections": [],
      "include_colab_link": true
    }
  },
  "nbformat": 4,
  "nbformat_minor": 5
}