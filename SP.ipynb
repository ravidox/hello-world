{
  "cells": [
    {
      "cell_type": "markdown",
      "metadata": {
        "id": "view-in-github",
        "colab_type": "text"
      },
      "source": [
        "<a href=\"https://colab.research.google.com/github/ravidox/hello-world/blob/main/SP.ipynb\" target=\"_parent\"><img src=\"https://colab.research.google.com/assets/colab-badge.svg\" alt=\"Open In Colab\"/></a>"
      ]
    },
    {
      "cell_type": "code",
      "execution_count": null,
      "id": "8ac08e3f",
      "metadata": {
        "id": "8ac08e3f",
        "outputId": "b60ba052-2446-49b4-e0f1-88a8349002ab"
      },
      "outputs": [
        {
          "name": "stdout",
          "output_type": "stream",
          "text": [
            "Number of rows:3\n",
            "Number of columns:3\n",
            "Enter TPM \n",
            "0.2 0.1 0.7 0.3 0.6 0.1 0.4 0.4 0.2\n",
            "[[0.2 0.1 0.7]\n",
            " [0.3 0.6 0.1]\n",
            " [0.4 0.4 0.2]]\n",
            "The steady state is [0.30107527 0.38709677 0.31182796]\n"
          ]
        }
      ],
      "source": [
        "\n",
        "import numpy as np\n",
        "from scipy.sparse import  eye, vstack\n",
        "from scipy.sparse.linalg import  spsolve\n",
        "\n",
        "class markovChain(object): \n",
        "    \n",
        "    def __init__(self,P=None,direct=False):\n",
        "        self.P              = P \n",
        "        self.pi             = None #steady state probability vector\n",
        "        self.mapping        = {}   #mapping used to identify states\n",
        "        self.initialState   = None #a dummy initial state             \n",
        "        \n",
        "    @property\n",
        "    def size(self):\n",
        "        return len(self.mapping)\n",
        "\n",
        "    def func(self): \n",
        "        size = P.shape[0]\n",
        "        dP = P - eye(size)\n",
        "        A = vstack([np.ones(size), dP.T[1:,:]]).tocsr()  \n",
        "        z = np.zeros((size,))\n",
        "        z[0] = 1      \n",
        "        self.pi = spsolve(A, z)\n",
        "\n",
        "    R = int(input(\"Number of rows:\"))\n",
        "    C = int(input(\"Number of columns:\"))\n",
        "\n",
        "    print(\"Enter TPM \")\n",
        "    entries = list(map(float, input().split()))\n",
        "    matrix = np.array(entries).reshape(R, C)\n",
        "    print(matrix)\n",
        "    P = matrix\n",
        "    a = markovChain(P)\n",
        "    a.func()\n",
        "    print(\"The steady state is\",a.pi)     \n",
        "    \n",
        "\n"
      ]
    },
    {
      "cell_type": "code",
      "execution_count": null,
      "id": "1044c2ab",
      "metadata": {
        "id": "1044c2ab"
      },
      "outputs": [],
      "source": [
        ""
      ]
    },
    {
      "cell_type": "code",
      "execution_count": null,
      "id": "9fe51cec",
      "metadata": {
        "id": "9fe51cec"
      },
      "outputs": [],
      "source": [
        ""
      ]
    },
    {
      "cell_type": "code",
      "execution_count": null,
      "id": "44dc7829",
      "metadata": {
        "id": "44dc7829"
      },
      "outputs": [],
      "source": [
        ""
      ]
    },
    {
      "cell_type": "code",
      "execution_count": null,
      "id": "5ba1786a",
      "metadata": {
        "id": "5ba1786a"
      },
      "outputs": [],
      "source": [
        ""
      ]
    }
  ],
  "metadata": {
    "kernelspec": {
      "display_name": "Python 3",
      "language": "python",
      "name": "python3"
    },
    "language_info": {
      "codemirror_mode": {
        "name": "ipython",
        "version": 3
      },
      "file_extension": ".py",
      "mimetype": "text/x-python",
      "name": "python",
      "nbconvert_exporter": "python",
      "pygments_lexer": "ipython3",
      "version": "3.8.8"
    },
    "colab": {
      "name": "SP.ipynb",
      "provenance": [],
      "include_colab_link": true
    }
  },
  "nbformat": 4,
  "nbformat_minor": 5
}